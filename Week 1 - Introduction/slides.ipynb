{
 "cells": [
  {
   "cell_type": "markdown",
   "metadata": {
    "slideshow": {
     "slide_type": "slide"
    }
   },
   "source": [
    "# Text Mining\n",
    "\n",
    "# Lecture 1: Introduction\n",
    "\n",
    "<br><br>\n",
    "<center>\n",
    "![img](http://www.ibmbigdatahub.com/sites/default/files/styles/tile_image/public/kernelmethod_thumbnail.jpg?itok=ae_gCqJF)\n",
    "</center>"
   ]
  },
  {
   "cell_type": "markdown",
   "metadata": {
    "slideshow": {
     "slide_type": "slide"
    }
   },
   "source": [
    "## General Info"
   ]
  },
  {
   "cell_type": "markdown",
   "metadata": {
    "slideshow": {
     "slide_type": "subslide"
    }
   },
   "source": [
    "### About Me\n",
    "\n",
    "- Chris Emmery (`cmry@protonmail.com`).\n",
    "- Master Human Aspects of Information Technology at Tilburg University.\n",
    "- Joint PhD Tilburg University & University of Antwerp.\n",
    "- Research and development for AMiCA project.\n",
    "- Interests mostly social media (multi-modal), profiling and obfuscation, privacy, open science. \n",
    "- Currently teaching Social Data Mining & Text Mining (for DSBG)."
   ]
  },
  {
   "cell_type": "markdown",
   "metadata": {
    "slideshow": {
     "slide_type": "subslide"
    }
   },
   "source": [
    "### About This Course\n",
    "\n",
    "- Practical Text Mining abilities.\n",
    "- Material synced with Social Data Mining & Data Processing.\n",
    "- DSBG-specific; more practical skills == more theory.\n",
    "- Hopefully good foundation for thesis / job (icw other courses)."
   ]
  },
  {
   "cell_type": "markdown",
   "metadata": {
    "slideshow": {
     "slide_type": "subslide"
    }
   },
   "source": [
    "### Requirements\n",
    "\n",
    "- Anaconda and Jupyter or Jupyter Hub (Data Processing).\n",
    "- If no Jupyter Hub, search (e.g. google): `jupyter anaconda`, first hit, follow instructions. Start download **now**.\n",
    "- Materials can be found on https://github.com/tcsai/text-mining.\n",
    "- Download -> download as `.zip` -> navigate to files in Jupyter.\n",
    "\n",
    "![img2](http://www.programmableweb.com/sites/default/files/github-jupyter.jpg)"
   ]
  },
  {
   "cell_type": "markdown",
   "metadata": {
    "slideshow": {
     "slide_type": "subslide"
    }
   },
   "source": [
    "### Materials\n",
    "\n",
    "Introduction to Information Retrieval - Manning, Raghavan, Schütze. **Reference Material ONLY!**\n",
    "\n",
    "![img3](http://nlp.stanford.edu/IR-book/iir.jpg)\n",
    "\n",
    "Freely available at: http://nlp.stanford.edu/IR-book/."
   ]
  },
  {
   "cell_type": "markdown",
   "metadata": {
    "slideshow": {
     "slide_type": "subslide"
    }
   },
   "source": [
    "### Grading\n",
    "\n",
    "- Individual Assignments (10%, 20%, 20% = 50%).\n",
    "- Final Group Assignment (50%)."
   ]
  },
  {
   "cell_type": "markdown",
   "metadata": {
    "slideshow": {
     "slide_type": "subslide"
    }
   },
   "source": [
    "### Rough Schedule\n",
    "\n",
    "- Can be found on https://github.com/tcsai/text-mining/blob/master/Week%201%20-%20Introduction/schedule.ipynb.\n",
    "- (or just under `schedule.ipynb` if you're in Week 1 on github).\n",
    "- Please note: **subject to change** (including deadlines).\n"
   ]
  },
  {
   "cell_type": "markdown",
   "metadata": {
    "collapsed": true,
    "slideshow": {
     "slide_type": "slide"
    }
   },
   "source": [
    "## Introduction to Text Mining"
   ]
  },
  {
   "cell_type": "markdown",
   "metadata": {
    "slideshow": {
     "slide_type": "subslide"
    }
   },
   "source": [
    "### 'Google-fu'\n",
    "\n",
    "+/- 5-10 minutes to look up the value of this field yourself.\n",
    "\n",
    "- Scan Text Mining applications on Wikipedia page.\n",
    "- Search LinkedIn for Text Mining jobs.\n",
    "- Look for Text Mining books on Amazon."
   ]
  },
  {
   "cell_type": "markdown",
   "metadata": {
    "slideshow": {
     "slide_type": "subslide"
    }
   },
   "source": [
    "### Role of Text Mining\n",
    "\n",
    "- For businesses: seen as an important sub-task of a Data Scientist.\n",
    "- Data is 'wild', often valuable. \n",
    "- Your task?\n",
    "- Expectations?"
   ]
  },
  {
   "cell_type": "markdown",
   "metadata": {
    "slideshow": {
     "slide_type": "subslide"
    }
   },
   "source": [
    "### Field Overview\n",
    "\n",
    "- Artificial Intelligence (?)\n",
    "- Machine Learning\n",
    "\n",
    "\n",
    "- Computer Vision\n",
    "- Natural Language Processing\n",
    "- Information Retrieval\n",
    "\n",
    "\n",
    "- Text Mining\n",
    "- Data Mining\n",
    "\n",
    "\n",
    "- Computational Linguistics\n",
    "- etc. (computational social sciences, computational ..., digital humantities, digital forensics, digital ...)"
   ]
  },
  {
   "cell_type": "markdown",
   "metadata": {
    "slideshow": {
     "slide_type": "subslide"
    }
   },
   "source": [
    "### Where's Text Mining at?\n",
    "\n",
    "- Use Machine Learning (supervised and unsupervised) algorithms.\n",
    "- 'Data Mining' with text.\n",
    "- Use techniques from NLP and Information Retrieval.\n",
    "- Both classifcation and search.\n",
    "- These techniques can be applied for anything 'computational' using text data.\n",
    "- Mix of human and computer tasks."
   ]
  },
  {
   "cell_type": "markdown",
   "metadata": {
    "slideshow": {
     "slide_type": "subslide"
    }
   },
   "source": [
    "### Why use Text Mining?\n",
    "\n",
    "Mostly intelligent interpretation of textual information:\n",
    "\n",
    "\n",
    "- Advertising\n",
    "- Social Media Analysis\n",
    "- Intelligent E-Mail Services\n",
    "- Customer Service\n",
    "- Knowledge Management\n",
    "- Risk Management\n",
    "- Cybercrime\n",
    "- Surveillance\n",
    "\n",
    "Remember: Information Retrieval (/ Search) is relevant to, but not the same as Text Mining."
   ]
  },
  {
   "cell_type": "markdown",
   "metadata": {
    "slideshow": {
     "slide_type": "subslide"
    }
   },
   "source": [
    "### Research Challenges\n",
    "\n",
    "- Collecting and cleaning data (pretty unpular, 'monkey' work).\n",
    "- Constructing annotated and documented sources (expensive and time consuming).\n",
    "- Developing original- or testing existing methods for common tasks (mostly ML / NLP research).\n",
    "- Coming up with novel tasks (only so useful, usually splintered).\n",
    "- Beating existing scores (most popular, least interesting)."
   ]
  },
  {
   "cell_type": "markdown",
   "metadata": {
    "slideshow": {
     "slide_type": "slide"
    }
   },
   "source": [
    "## Introduction to Search"
   ]
  },
  {
   "cell_type": "markdown",
   "metadata": {
    "slideshow": {
     "slide_type": "subslide"
    }
   },
   "source": [
    "### -Very- Quick History\n",
    "\n",
    "Similar to Text Mining, deals with large sets of textual information.\n",
    "\n",
    "- Originates from librarians, hierachical.\n",
    "- Information sources became digital, query systems.\n",
    "- Internet came into existence, unstructured and richer. \n",
    "\n",
    "Casual read: http://ciir-publications.cs.umass.edu/getpdf.php?id=1066\n",
    "\n",
    "![img4](https://toynbeeconvector.files.wordpress.com/2013/01/p1220419.jpg)"
   ]
  },
  {
   "cell_type": "markdown",
   "metadata": {
    "slideshow": {
     "slide_type": "subslide"
    }
   },
   "source": [
    "### Search versus Classification\n",
    "\n",
    "- Data Mining:\n",
    "    - Numeric features.\n",
    "    - Predict some class label.\n",
    "- Search:\n",
    "    - Textual features.\n",
    "    - Return related documents.\n",
    "- Text Mining:\n",
    "    - Textual features.\n",
    "    - Predict some class label."
   ]
  },
  {
   "cell_type": "markdown",
   "metadata": {
    "slideshow": {
     "slide_type": "subslide"
    }
   },
   "source": [
    "### Working with Corpora / Collections"
   ]
  },
  {
   "cell_type": "code",
   "execution_count": 3,
   "metadata": {
    "collapsed": false
   },
   "outputs": [
    {
     "name": "stdout",
     "output_type": "stream",
     "text": [
      "data/natural-language-processing.txt\n",
      "data/machine-learning.txt\n",
      "data/computer-vision.txt\n",
      "data/artificial-intelligence.txt\n",
      "data/text-mining.txt\n",
      "data/information-retrieval.txt\n"
     ]
    }
   ],
   "source": [
    "from glob import glob\n",
    "print('\\n'.join(glob('data/*.txt')))"
   ]
  },
  {
   "cell_type": "markdown",
   "metadata": {
    "slideshow": {
     "slide_type": "subslide"
    }
   },
   "source": [
    "### How to Begin Search?\n",
    "\n",
    "Find which deal with text."
   ]
  },
  {
   "cell_type": "code",
   "execution_count": 11,
   "metadata": {
    "collapsed": false,
    "slideshow": {
     "slide_type": "-"
    }
   },
   "outputs": [
    {
     "data": {
      "text/plain": [
       "['data/natural-language-processing.txt',\n",
       " 'data/artificial-intelligence.txt',\n",
       " 'data/text-mining.txt',\n",
       " 'data/information-retrieval.txt',\n",
       " 'data/machine-learning.txt',\n",
       " 'data/computer-vision.txt']"
      ]
     },
     "execution_count": 11,
     "metadata": {},
     "output_type": "execute_result"
    }
   ],
   "source": [
    "texts = {file_name: open(file_name).read()\n",
    "         for file_name in glob('data/*.txt')}\n",
    "hits = [file_name for file_name, file_contents in texts.items()\n",
    "        if 'text' in file_contents]\n",
    "hits"
   ]
  },
  {
   "cell_type": "markdown",
   "metadata": {
    "slideshow": {
     "slide_type": "subslide"
    }
   },
   "source": [
    "### Simple (but effective) Queries"
   ]
  },
  {
   "cell_type": "code",
   "execution_count": 12,
   "metadata": {
    "collapsed": false,
    "slideshow": {
     "slide_type": "-"
    }
   },
   "outputs": [
    {
     "data": {
      "text/plain": [
       "['data/text-mining.txt']"
      ]
     },
     "execution_count": 12,
     "metadata": {},
     "output_type": "execute_result"
    }
   ],
   "source": [
    "hits = [file_name for file_name, file_contents in texts.items()\n",
    "        if 'textual data' in file_contents]\n",
    "hits"
   ]
  },
  {
   "cell_type": "code",
   "execution_count": 13,
   "metadata": {
    "collapsed": false,
    "slideshow": {
     "slide_type": "-"
    }
   },
   "outputs": [
    {
     "data": {
      "text/plain": [
       "['data/natural-language-processing.txt',\n",
       " 'data/text-mining.txt',\n",
       " 'data/information-retrieval.txt',\n",
       " 'data/machine-learning.txt']"
      ]
     },
     "execution_count": 13,
     "metadata": {},
     "output_type": "execute_result"
    }
   ],
   "source": [
    "hits = [file_name for file_name, file_contents in texts.items()\n",
    "        if 'documents' in file_contents]\n",
    "hits"
   ]
  },
  {
   "cell_type": "markdown",
   "metadata": {
    "slideshow": {
     "slide_type": "subslide"
    }
   },
   "source": [
    "### More complex tasks?\n",
    "\n",
    "- Simple with conditions:\n",
    "    - \"all these words should be in there\"\n",
    "    - \"this\" OR \"that\"\n",
    "    - \"this\" NOT \"this\"\n",
    "\n",
    "Find all urls? Find all e-mails? Find all entities?"
   ]
  },
  {
   "cell_type": "markdown",
   "metadata": {
    "slideshow": {
     "slide_type": "slide"
    }
   },
   "source": [
    "## Regular Expressions Assignment"
   ]
  }
 ],
 "metadata": {
  "celltoolbar": "Slideshow",
  "kernelspec": {
   "display_name": "Python 3",
   "language": "python",
   "name": "python3"
  },
  "language_info": {
   "codemirror_mode": {
    "name": "ipython",
    "version": 3
   },
   "file_extension": ".py",
   "mimetype": "text/x-python",
   "name": "python",
   "nbconvert_exporter": "python",
   "pygments_lexer": "ipython3",
   "version": "3.5.2"
  }
 },
 "nbformat": 4,
 "nbformat_minor": 1
}
