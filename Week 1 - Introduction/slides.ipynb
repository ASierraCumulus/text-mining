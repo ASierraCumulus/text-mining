{
 "cells": [
  {
   "cell_type": "markdown",
   "metadata": {
    "slideshow": {
     "slide_type": "slide"
    }
   },
   "source": [
    "# Text Mining\n",
    "\n",
    "# Lecutre 1: Introduction"
   ]
  },
  {
   "cell_type": "markdown",
   "metadata": {
    "slideshow": {
     "slide_type": "slide"
    }
   },
   "source": [
    "## General Info"
   ]
  },
  {
   "cell_type": "markdown",
   "metadata": {
    "slideshow": {
     "slide_type": "subslide"
    }
   },
   "source": [
    "### About Me\n",
    "\n",
    "- Master Human Aspects of Information Technology at Tilburg University.\n",
    "- Joint PhD Tilburg University & University of Antwerp.\n",
    "- Research and development for AMiCA project.\n",
    "- Interests mostly social media (multi-modal), profiling and obfuscation, privacy, open science. \n",
    "- Currently teaching Social Data Mining & Text Mining (for DSBG)."
   ]
  },
  {
   "cell_type": "markdown",
   "metadata": {
    "slideshow": {
     "slide_type": "subslide"
    }
   },
   "source": [
    "### About This Course\n",
    "\n",
    "- Practical Text Mining abilities.\n",
    "- Material synced with Social Data Mining & Data Processing.\n",
    "- DSBG-specific; more practical skills == more theory.\n",
    "- Hopefully good foundation for thesis / job (icw other courses)."
   ]
  },
  {
   "cell_type": "markdown",
   "metadata": {
    "slideshow": {
     "slide_type": "subslide"
    }
   },
   "source": [
    "### Requirements\n",
    "\n",
    "- Anaconda and Jupyter or Jupyter Hub (Data Processing)\n",
    "- If no Jupyter Hub, google: `jupyter anaconda`, first hit, follow instructions. Start download **now**.\n",
    "- Materials can be found on https://github.com/tcsai/text-mining.\n",
    "- Download -> download as `.zip` -> navigate to files in Jupyter.\n"
   ]
  }
 ],
 "metadata": {
  "celltoolbar": "Slideshow",
  "kernelspec": {
   "display_name": "Python 3",
   "language": "python",
   "name": "python3"
  },
  "language_info": {
   "codemirror_mode": {
    "name": "ipython",
    "version": 3
   },
   "file_extension": ".py",
   "mimetype": "text/x-python",
   "name": "python",
   "nbconvert_exporter": "python",
   "pygments_lexer": "ipython3",
   "version": "3.5.2"
  }
 },
 "nbformat": 4,
 "nbformat_minor": 1
}
