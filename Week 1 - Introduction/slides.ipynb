{
 "cells": [
  {
   "cell_type": "markdown",
   "metadata": {
    "slideshow": {
     "slide_type": "slide"
    }
   },
   "source": [
    "# Text Mining\n",
    "\n",
    "# Lecutre 1: Introduction"
   ]
  },
  {
   "cell_type": "markdown",
   "metadata": {
    "slideshow": {
     "slide_type": "slide"
    }
   },
   "source": [
    "## General Info"
   ]
  },
  {
   "cell_type": "markdown",
   "metadata": {
    "slideshow": {
     "slide_type": "subslide"
    }
   },
   "source": [
    "### About Me\n",
    "\n",
    "- Master Human Aspects of Information Technology at Tilburg University.\n",
    "- Joint PhD Tilburg University & University of Antwerp.\n",
    "- Research and development for AMiCA project.\n",
    "- Interests mostly social media (multi-modal), profiling and obfuscation, privacy, open science. \n",
    "- Currently teaching Social Data Mining & Text Mining (for DSBG)."
   ]
  },
  {
   "cell_type": "markdown",
   "metadata": {
    "slideshow": {
     "slide_type": "subslide"
    }
   },
   "source": [
    "### About This Course\n",
    "\n",
    "- Practical Text Mining abilities.\n",
    "- Material synced with Social Data Mining & Data Processing.\n",
    "- DSBG-specific; more practical skills == more theory.\n",
    "- Hopefully good foundation for thesis / job (icw other courses)."
   ]
  },
  {
   "cell_type": "markdown",
   "metadata": {
    "slideshow": {
     "slide_type": "subslide"
    }
   },
   "source": [
    "### Requirements\n",
    "\n",
    "- Anaconda and Jupyter or Jupyter Hub (Data Processing)\n",
    "- If no Jupyter Hub, search (e.g. google): `jupyter anaconda`, first hit, follow instructions. Start download **now**.\n",
    "- Materials can be found on https://github.com/tcsai/text-mining.\n",
    "- Download -> download as `.zip` -> navigate to files in Jupyter.\n"
   ]
  },
  {
   "cell_type": "markdown",
   "metadata": {
    "slideshow": {
     "slide_type": "subslide"
    }
   },
   "source": [
    "### Grading\n",
    "\n",
    "- Individual Assignments (10%, 20%, 20% = 50%)\n",
    "- Final Group Assignment (50%)"
   ]
  },
  {
   "cell_type": "markdown",
   "metadata": {
    "slideshow": {
     "slide_type": "subslide"
    }
   },
   "source": [
    "### Rough Schedule\n",
    "\n",
    "- Can be found on URL.\n",
    "- Please note: **subject to change** (including deadlines).\n"
   ]
  },
  {
   "cell_type": "markdown",
   "metadata": {
    "collapsed": true,
    "slideshow": {
     "slide_type": "slide"
    }
   },
   "source": [
    "## Introduction to Text Mining"
   ]
  },
  {
   "cell_type": "markdown",
   "metadata": {
    "slideshow": {
     "slide_type": "subslide"
    }
   },
   "source": [
    "### 'Google-foo'\n",
    "\n",
    "+/- 5-10 minutes to look up the value of this field yourself.\n",
    "\n",
    "- Scan Text Mining applications on Wikipedia page.\n",
    "- Search LinkedIn for Text Mining jobs.\n",
    "- Look for Text Mining books on Amazon"
   ]
  },
  {
   "cell_type": "markdown",
   "metadata": {
    "slideshow": {
     "slide_type": "subslide"
    }
   },
   "source": [
    "### Role of Text Mining\n",
    "\n",
    "- For businesses: seen as an important sub-task of a Data Scientist.\n",
    "- Data is 'wild', often valuable. \n",
    "- Your task?\n",
    "- Expectations?"
   ]
  },
  {
   "cell_type": "markdown",
   "metadata": {
    "slideshow": {
     "slide_type": "subslide"
    }
   },
   "source": [
    "### Field Overview\n",
    "\n",
    "- Artificial Intelligence (?)\n",
    "- Machine Learning\n",
    "---\n",
    "- Computer Vision\n",
    "- Natural Language Processing\n",
    "---\n",
    "- Text Mining\n",
    "- Data Mining\n",
    "---\n",
    "- Computational Linguistics\n",
    "- Computational Social Sciences\n",
    "- etc. (computational ..., digital humantities, digital forensics, digital ...)"
   ]
  }
 ],
 "metadata": {
  "celltoolbar": "Slideshow",
  "kernelspec": {
   "display_name": "Python 3",
   "language": "python",
   "name": "python3"
  },
  "language_info": {
   "codemirror_mode": {
    "name": "ipython",
    "version": 3
   },
   "file_extension": ".py",
   "mimetype": "text/x-python",
   "name": "python",
   "nbconvert_exporter": "python",
   "pygments_lexer": "ipython3",
   "version": "3.5.2"
  }
 },
 "nbformat": 4,
 "nbformat_minor": 1
}
